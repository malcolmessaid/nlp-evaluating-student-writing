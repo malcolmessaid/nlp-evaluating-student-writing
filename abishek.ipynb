{
 "cells": [
  {
   "cell_type": "code",
   "execution_count": null,
   "id": "9fd2b89a-8566-42f0-b836-1cf9b53db4f8",
   "metadata": {},
   "outputs": [],
   "source": [
    "import copy\n",
    "import os\n",
    "\n",
    "import numpy as np\n",
    "import pandas as pd\n",
    "import torch\n",
    "from tqdm import tqdm\n",
    "\n",
    "from transformers import AdamW, AutoConfig, AutoModel, AutoTokenizer, get_cosine_schedule_with_warmup"
   ]
  },
  {
   "cell_type": "code",
   "execution_count": 5,
   "id": "dd844169-a093-4cff-ad09-ac85c951c1e8",
   "metadata": {},
   "outputs": [
    {
     "name": "stderr",
     "output_type": "stream",
     "text": [
      "100%|█████████████████████████████████████████| 100/100 [00:01<00:00, 87.47it/s]\n"
     ]
    }
   ],
   "source": [
    "tokenizer = AutoTokenizer.from_pretrained('allenai/longformer-large-4096')\n",
    "#tokenizer = T5Tokenizer.from_pretrained(\"t5-large'\n",
    "path = 'feedback-prize-2021'\n",
    "df = pd.read_csv(os.path.join(path,'train.csv'))\n",
    "train_ids = df['id'].unique()\n",
    "\n",
    "def _prepare_training_data_helper(path, tokenizer, df, train_ids):\n",
    "    training_samples = []\n",
    "    for idx in tqdm(train_ids):\n",
    "        filename = os.path.join(path, \"train\", idx + \".txt\")\n",
    "        with open(filename, \"r\") as f:\n",
    "            text = f.read()\n",
    "\n",
    "        encoded_text = tokenizer.encode_plus(\n",
    "            text,\n",
    "            add_special_tokens=False,\n",
    "            return_offsets_mapping=True,\n",
    "        )\n",
    "        input_ids = encoded_text[\"input_ids\"]\n",
    "        input_labels = copy.deepcopy(input_ids)\n",
    "        offset_mapping = encoded_text[\"offset_mapping\"]\n",
    "\n",
    "        for k in range(len(input_labels)):\n",
    "            input_labels[k] = \"O\"\n",
    "\n",
    "        sample = {\n",
    "            \"id\": idx,\n",
    "            \"input_ids\": input_ids,\n",
    "            \"text\": text,\n",
    "            \"offset_mapping\": offset_mapping,\n",
    "        }\n",
    "\n",
    "        temp_df = df[df[\"id\"] == idx]\n",
    "        # each row of the df is going to be one sentence with one type\n",
    "        for _, row in temp_df.iterrows():\n",
    "            # id is just one document\n",
    "            text_labels = [0] * len(text)\n",
    "            discourse_start = int(row[\"discourse_start\"])\n",
    "            discourse_end = int(row[\"discourse_end\"])\n",
    "            prediction_label = row[\"discourse_type\"]\n",
    "            text_labels[discourse_start:discourse_end] = [1] * (discourse_end - discourse_start)\n",
    "            target_idx = []\n",
    "            # iterating over the offset mapping for the encoded text (tokenized text) so you are basically iterating over every single word (token)\n",
    "            for map_idx, (offset1, offset2) in enumerate(encoded_text[\"offset_mapping\"]):\n",
    "                if sum(text_labels[offset1:offset2]) > 0:\n",
    "                    if len(text[offset1:offset2].split()) > 0:\n",
    "                        target_idx.append(map_idx)\n",
    "\n",
    "            targets_start = target_idx[0]\n",
    "            targets_end = target_idx[-1]\n",
    "            pred_start = \"B-\" + prediction_label\n",
    "            pred_end = \"I-\" + prediction_label\n",
    "            input_labels[targets_start] = pred_start\n",
    "            input_labels[targets_start + 1 : targets_end + 1] = [pred_end] * (targets_end - targets_start)\n",
    "\n",
    "        sample[\"input_ids\"] = input_ids\n",
    "        sample[\"input_labels\"] = input_labels\n",
    "        training_samples.append(sample)\n",
    "    return training_samples\n",
    "\n",
    "training_sample = _prepare_training_data_helper(path, tokenizer, df, train_ids[:100]) "
   ]
  },
  {
   "cell_type": "code",
   "execution_count": 6,
   "id": "b9d3beb3-3803-47b3-b61d-3dccbedb5cf7",
   "metadata": {},
   "outputs": [
    {
     "name": "stdout",
     "output_type": "stream",
     "text": [
      "444\n",
      "379\n",
      "{'id': '423A1CA112E2', 'input_ids': [48083, 50118, 50118, 39631, 5868, 452, 32, 460, 15, 49, 1028, 4, 252, 32, 460, 15, 49, 1028, 55, 87, 195, 722, 10, 183, 117, 912, 479, 3684, 51, 109, 16, 2788, 124, 8, 556, 8, 95, 33, 333, 732, 2923, 15, 592, 433, 4, 252, 190, 109, 24, 150, 1428, 4, 252, 32, 103, 269, 1099, 4914, 77, 2682, 2594, 77, 24, 606, 7, 10, 1028, 4, 993, 1402, 911, 11, 5, 315, 532, 2020, 4247, 31, 1380, 5351, 95, 142, 9, 24, 4, 50118, 50118, 1779, 82, 33, 4247, 6, 51, 216, 59, 1402, 3798, 14, 51, 33, 479, 46036, 101, 622, 599, 1838, 8, 11477, 4, 407, 101, 114, 10, 1441, 3136, 409, 8, 47, 236, 7, 28, 11, 1511, 47, 64, 202, 28, 11, 1511, 30, 6016, 3424, 50, 2788, 3731, 4, 1806, 460, 33, 430, 1319, 141, 7, 8469, 19, 10, 1028, 4, 4129, 6909, 33, 1714, 528, 7, 84, 2706, 4, 50118, 50118, 34002, 6645, 16, 65, 9, 5, 169, 141, 7, 120, 198, 4, 1806, 460, 28, 15, 49, 4247, 150, 608, 24, 4, 6834, 64, 1303, 1473, 35677, 4, 280, 18, 596, 89, 18, 10, 631, 14, 18, 373, 117, 19943, 150, 1428, 4, 280, 18, 10, 269, 505, 631, 7, 2145, 4, 993, 82, 202, 109, 24, 142, 51, 206, 85, 18, 12103, 4, 440, 948, 99, 51, 109, 51, 202, 33, 7, 28616, 24, 142, 14, 18, 5, 129, 169, 141, 222, 37, 1871, 4, 50118, 50118, 13624, 15, 5, 340, 89, 16, 1169, 41, 3213, 50, 10, 4260, 4, 85, 429, 6877, 951, 45, 546, 147, 51, 214, 164, 50, 3545, 14, 951, 1051, 4, 85, 1169, 1356, 50, 744, 4, 318, 10, 12754, 346, 161, 38, 437, 164, 7, 3549, 47, 8, 51, 216, 147, 47, 697, 53, 47, 218, 75, 216, 5, 621, 18, 1511, 50118, 50118, 6, 243, 817, 47, 36742, 8, 146, 47, 386, 7, 21905, 66, 4, 6834, 64, 253, 62, 269, 7340, 4, 50118, 50118, 48083, 32, 2051, 7, 304, 8, 24, 18, 67, 5, 275, 169, 7, 283, 81, 244, 4, 318, 47, 213, 149, 10, 936, 8, 47, 64, 75, 465, 244, 47, 2156, 30035, 33, 10, 1028, 89, 19, 47, 4, 1648, 600, 4247, 32, 341, 818, 358, 183, 25, 251, 25, 47, 214, 1522, 24, 74, 283, 88, 304, 114, 47, 120, 88, 3605, 4, 5293, 686, 47, 109, 45, 28, 101, 42, 1028, 150, 47, 214, 11, 5, 1692, 9, 1428, 4, 20, 340, 460, 4752, 77, 82, 109, 402, 12103, 198, 14, 6890, 49, 4247, 4, 20, 25026, 169, 16, 5, 275, 169, 7, 1095, 1522, 4, 1437, 1437, 1437, 1437], 'text': \"Phones\\n\\nModern humans today are always on their phone. They are always on their phone more than 5 hours a day no stop .All they do is text back and forward and just have group Chats on social media. They even do it while driving. They are some really bad consequences when stuff happens when it comes to a phone. Some certain areas in the United States ban phones from class rooms just because of it.\\n\\nWhen people have phones, they know about certain apps that they have .Apps like Facebook Twitter Instagram and Snapchat. So like if a friend moves away and you want to be in contact you can still be in contact by posting videos or text messages. People always have different ways how to communicate with a phone. Phones have changed due to our generation.\\n\\nDriving is one of the way how to get around. People always be on their phones while doing it. Which can cause serious Problems. That's why there's a thing that's called no texting while driving. That's a really important thing to remember. Some people still do it because they think It's stupid. No matter what they do they still have to obey it because that's the only way how did he save.\\n\\nSometimes on the news there is either an accident or a suicide. It might involve someone not looking where they're going or tweet that someone sent. It either injury or death. If a mysterious number says I'm going to kill you and they know where you live but you don't know the person's contact\\n\\n,It makes you puzzled and make you start to freak out. Which can end up really badly.\\n\\nPhones are fine to use and it's also the best way to come over help. If you go through a problem and you can't find help you ,always have a phone there with you. Even though phones are used almost every day as long as you're safe it would come into use if you get into trouble. Make sure you do not be like this phone while you're in the middle of driving. The news always updated when people do something stupid around that involves their phones. The safest way is the best way to stay safe.    \", 'offset_mapping': [(0, 6), (6, 7), (7, 8), (8, 14), (15, 21), (22, 27), (28, 31), (32, 38), (39, 41), (42, 47), (48, 53), (53, 54), (55, 59), (60, 63), (64, 70), (71, 73), (74, 79), (80, 85), (86, 90), (91, 95), (96, 97), (98, 103), (104, 105), (106, 109), (110, 112), (113, 117), (118, 119), (119, 122), (123, 127), (128, 130), (131, 133), (134, 138), (139, 143), (144, 147), (148, 155), (156, 159), (160, 164), (165, 169), (170, 175), (176, 178), (178, 181), (182, 184), (185, 191), (192, 197), (197, 198), (199, 203), (204, 208), (209, 211), (212, 214), (215, 220), (221, 228), (228, 229), (230, 234), (235, 238), (239, 243), (244, 250), (251, 254), (255, 267), (268, 272), (273, 278), (279, 286), (287, 291), (292, 294), (295, 300), (301, 303), (304, 305), (306, 311), (311, 312), (313, 317), (318, 325), (326, 331), (332, 334), (335, 338), (339, 345), (346, 352), (353, 356), (357, 363), (364, 368), (369, 374), (375, 380), (381, 385), (386, 393), (394, 396), (397, 399), (399, 400), (400, 401), (401, 402), (402, 406), (407, 413), (414, 418), (419, 425), (425, 426), (427, 431), (432, 436), (437, 442), (443, 450), (451, 455), (456, 460), (461, 465), (466, 470), (471, 472), (472, 476), (477, 481), (482, 490), (491, 498), (499, 508), (509, 512), (513, 521), (521, 522), (523, 525), (526, 530), (531, 533), (534, 535), (536, 542), (543, 548), (549, 553), (554, 557), (558, 561), (562, 566), (567, 569), (570, 572), (573, 575), (576, 583), (584, 587), (588, 591), (592, 597), (598, 600), (601, 603), (604, 611), (612, 614), (615, 622), (623, 629), (630, 632), (633, 637), (638, 646), (646, 647), (648, 654), (655, 661), (662, 666), (667, 676), (677, 681), (682, 685), (686, 688), (689, 700), (701, 705), (706, 707), (708, 713), (713, 714), (715, 717), (717, 721), (722, 726), (727, 734), (735, 738), (739, 741), (742, 745), (746, 756), (756, 757), (757, 758), (758, 759), (759, 762), (762, 766), (767, 769), (770, 773), (774, 776), (777, 780), (781, 784), (785, 788), (789, 791), (792, 795), (796, 802), (802, 803), (804, 810), (811, 817), (818, 820), (821, 823), (824, 829), (830, 836), (837, 842), (843, 848), (849, 851), (851, 852), (853, 858), (859, 862), (863, 868), (869, 876), (877, 885), (885, 886), (887, 891), (891, 893), (894, 897), (898, 903), (903, 905), (906, 907), (908, 913), (914, 918), (918, 920), (921, 927), (928, 930), (931, 938), (939, 944), (945, 952), (952, 953), (954, 958), (958, 960), (961, 962), (963, 969), (970, 979), (980, 985), (986, 988), (989, 997), (997, 998), (999, 1003), (1004, 1010), (1011, 1016), (1017, 1019), (1020, 1022), (1023, 1030), (1031, 1035), (1036, 1041), (1042, 1044), (1044, 1046), (1047, 1053), (1053, 1054), (1055, 1057), (1058, 1064), (1065, 1069), (1070, 1074), (1075, 1077), (1078, 1082), (1083, 1088), (1089, 1093), (1094, 1096), (1097, 1101), (1102, 1104), (1105, 1112), (1113, 1117), (1117, 1119), (1120, 1123), (1124, 1128), (1129, 1132), (1133, 1136), (1137, 1140), (1141, 1143), (1144, 1148), (1148, 1149), (1149, 1150), (1150, 1151), (1151, 1160), (1161, 1163), (1164, 1167), (1168, 1172), (1173, 1178), (1179, 1181), (1182, 1188), (1189, 1191), (1192, 1200), (1201, 1203), (1204, 1205), (1206, 1213), (1213, 1214), (1215, 1217), (1218, 1223), (1224, 1231), (1232, 1239), (1240, 1243), (1244, 1251), (1252, 1257), (1258, 1262), (1262, 1265), (1266, 1271), (1272, 1274), (1275, 1280), (1281, 1285), (1286, 1293), (1294, 1298), (1298, 1299), (1300, 1302), (1303, 1309), (1310, 1316), (1317, 1319), (1320, 1325), (1325, 1326), (1327, 1329), (1330, 1331), (1332, 1342), (1343, 1349), (1350, 1354), (1355, 1356), (1356, 1358), (1359, 1364), (1365, 1367), (1368, 1372), (1373, 1376), (1377, 1380), (1381, 1385), (1386, 1390), (1391, 1396), (1397, 1400), (1401, 1405), (1406, 1409), (1410, 1413), (1414, 1417), (1417, 1419), (1420, 1424), (1425, 1428), (1429, 1435), (1435, 1437), (1438, 1445), (1445, 1446), (1446, 1447), (1447, 1448), (1448, 1450), (1451, 1456), (1457, 1460), (1461, 1468), (1469, 1472), (1473, 1477), (1478, 1481), (1482, 1487), (1488, 1490), (1491, 1496), (1497, 1500), (1500, 1501), (1502, 1507), (1508, 1511), (1512, 1515), (1516, 1518), (1519, 1525), (1526, 1531), (1531, 1532), (1532, 1533), (1533, 1534), (1534, 1540), (1541, 1544), (1545, 1549), (1550, 1552), (1553, 1556), (1557, 1560), (1561, 1563), (1563, 1565), (1566, 1570), (1571, 1574), (1575, 1579), (1580, 1583), (1584, 1586), (1587, 1591), (1592, 1596), (1597, 1601), (1601, 1602), (1603, 1605), (1606, 1609), (1610, 1612), (1613, 1620), (1621, 1622), (1623, 1630), (1631, 1634), (1635, 1638), (1639, 1642), (1642, 1644), (1645, 1649), (1650, 1654), (1655, 1658), (1659, 1660), (1660, 1666), (1667, 1671), (1672, 1673), (1674, 1679), (1680, 1685), (1686, 1690), (1691, 1694), (1694, 1695), (1696, 1700), (1701, 1707), (1708, 1714), (1715, 1718), (1719, 1723), (1724, 1730), (1731, 1736), (1737, 1740), (1741, 1743), (1744, 1748), (1749, 1751), (1752, 1755), (1755, 1758), (1759, 1763), (1764, 1766), (1767, 1772), (1773, 1777), (1778, 1782), (1783, 1786), (1787, 1789), (1790, 1793), (1794, 1797), (1798, 1802), (1803, 1810), (1810, 1811), (1812, 1816), (1817, 1821), (1822, 1825), (1826, 1828), (1829, 1832), (1833, 1835), (1836, 1840), (1841, 1845), (1846, 1851), (1852, 1857), (1858, 1861), (1861, 1864), (1865, 1867), (1868, 1871), (1872, 1878), (1879, 1881), (1882, 1889), (1889, 1890), (1891, 1894), (1895, 1899), (1900, 1906), (1907, 1914), (1915, 1919), (1920, 1926), (1927, 1929), (1930, 1939), (1940, 1946), (1947, 1953), (1954, 1958), (1959, 1967), (1968, 1973), (1974, 1980), (1980, 1981), (1982, 1985), (1986, 1992), (1993, 1996), (1997, 1999), (2000, 2003), (2004, 2008), (2009, 2012), (2013, 2015), (2016, 2020), (2021, 2025), (2025, 2026), (2027, 2027), (2028, 2028), (2029, 2029), (2030, 2030)], 'input_labels': ['O', 'O', 'O', 'B-Lead', 'I-Lead', 'I-Lead', 'I-Lead', 'I-Lead', 'I-Lead', 'I-Lead', 'I-Lead', 'I-Lead', 'I-Lead', 'I-Lead', 'I-Lead', 'I-Lead', 'I-Lead', 'I-Lead', 'I-Lead', 'I-Lead', 'I-Lead', 'I-Lead', 'I-Lead', 'I-Lead', 'I-Lead', 'I-Lead', 'I-Lead', 'I-Lead', 'I-Lead', 'I-Lead', 'I-Lead', 'I-Lead', 'I-Lead', 'I-Lead', 'I-Lead', 'I-Lead', 'I-Lead', 'I-Lead', 'I-Lead', 'I-Lead', 'I-Lead', 'I-Lead', 'I-Lead', 'I-Lead', 'I-Lead', 'I-Lead', 'I-Lead', 'I-Lead', 'I-Lead', 'I-Lead', 'I-Lead', 'I-Lead', 'B-Position', 'I-Position', 'I-Position', 'I-Position', 'I-Position', 'I-Position', 'I-Position', 'I-Position', 'I-Position', 'I-Position', 'I-Position', 'I-Position', 'I-Position', 'I-Position', 'I-Position', 'I-Position', 'B-Evidence', 'I-Evidence', 'I-Evidence', 'I-Evidence', 'I-Evidence', 'I-Evidence', 'I-Evidence', 'I-Evidence', 'I-Evidence', 'I-Evidence', 'I-Evidence', 'I-Evidence', 'I-Evidence', 'I-Evidence', 'I-Evidence', 'I-Evidence', 'I-Evidence', 'O', 'O', 'B-Evidence', 'I-Evidence', 'I-Evidence', 'I-Evidence', 'I-Evidence', 'I-Evidence', 'I-Evidence', 'I-Evidence', 'I-Evidence', 'I-Evidence', 'I-Evidence', 'I-Evidence', 'I-Evidence', 'I-Evidence', 'I-Evidence', 'I-Evidence', 'I-Evidence', 'I-Evidence', 'I-Evidence', 'I-Evidence', 'I-Evidence', 'I-Evidence', 'I-Evidence', 'I-Evidence', 'I-Evidence', 'I-Evidence', 'I-Evidence', 'I-Evidence', 'I-Evidence', 'I-Evidence', 'I-Evidence', 'I-Evidence', 'I-Evidence', 'I-Evidence', 'I-Evidence', 'I-Evidence', 'I-Evidence', 'I-Evidence', 'I-Evidence', 'I-Evidence', 'I-Evidence', 'I-Evidence', 'I-Evidence', 'I-Evidence', 'I-Evidence', 'I-Evidence', 'I-Evidence', 'I-Evidence', 'I-Evidence', 'I-Evidence', 'I-Evidence', 'I-Evidence', 'I-Evidence', 'I-Evidence', 'I-Evidence', 'I-Evidence', 'I-Evidence', 'I-Evidence', 'I-Evidence', 'I-Evidence', 'I-Evidence', 'I-Evidence', 'I-Evidence', 'I-Evidence', 'I-Evidence', 'I-Evidence', 'I-Evidence', 'I-Evidence', 'I-Evidence', 'I-Evidence', 'O', 'O', 'B-Claim', 'I-Claim', 'I-Claim', 'I-Claim', 'I-Claim', 'I-Claim', 'I-Claim', 'I-Claim', 'I-Claim', 'I-Claim', 'I-Claim', 'I-Claim', 'I-Claim', 'I-Claim', 'I-Claim', 'I-Claim', 'I-Claim', 'I-Claim', 'I-Claim', 'I-Claim', 'I-Claim', 'I-Claim', 'I-Claim', 'I-Claim', 'I-Claim', 'I-Claim', 'I-Claim', 'I-Claim', 'B-Evidence', 'I-Evidence', 'I-Evidence', 'I-Evidence', 'I-Evidence', 'I-Evidence', 'I-Evidence', 'I-Evidence', 'I-Evidence', 'I-Evidence', 'I-Evidence', 'I-Evidence', 'I-Evidence', 'I-Evidence', 'I-Evidence', 'I-Evidence', 'I-Evidence', 'I-Evidence', 'I-Evidence', 'I-Evidence', 'I-Evidence', 'I-Evidence', 'I-Evidence', 'I-Evidence', 'I-Evidence', 'I-Evidence', 'I-Evidence', 'I-Evidence', 'I-Evidence', 'I-Evidence', 'I-Evidence', 'I-Evidence', 'I-Evidence', 'I-Evidence', 'I-Evidence', 'I-Evidence', 'I-Evidence', 'I-Evidence', 'I-Evidence', 'I-Evidence', 'I-Evidence', 'I-Evidence', 'I-Evidence', 'I-Evidence', 'I-Evidence', 'I-Evidence', 'I-Evidence', 'I-Evidence', 'I-Evidence', 'I-Evidence', 'I-Evidence', 'I-Evidence', 'I-Evidence', 'I-Evidence', 'I-Evidence', 'I-Evidence', 'I-Evidence', 'I-Evidence', 'O', 'O', 'B-Evidence', 'I-Evidence', 'I-Evidence', 'I-Evidence', 'I-Evidence', 'I-Evidence', 'I-Evidence', 'I-Evidence', 'I-Evidence', 'I-Evidence', 'I-Evidence', 'I-Evidence', 'I-Evidence', 'I-Evidence', 'I-Evidence', 'I-Evidence', 'I-Evidence', 'I-Evidence', 'I-Evidence', 'I-Evidence', 'I-Evidence', 'I-Evidence', 'I-Evidence', 'I-Evidence', 'I-Evidence', 'I-Evidence', 'I-Evidence', 'I-Evidence', 'I-Evidence', 'I-Evidence', 'I-Evidence', 'I-Evidence', 'I-Evidence', 'I-Evidence', 'I-Evidence', 'I-Evidence', 'I-Evidence', 'I-Evidence', 'I-Evidence', 'I-Evidence', 'I-Evidence', 'I-Evidence', 'I-Evidence', 'I-Evidence', 'I-Evidence', 'I-Evidence', 'I-Evidence', 'I-Evidence', 'I-Evidence', 'I-Evidence', 'I-Evidence', 'I-Evidence', 'I-Evidence', 'I-Evidence', 'I-Evidence', 'I-Evidence', 'I-Evidence', 'I-Evidence', 'I-Evidence', 'I-Evidence', 'I-Evidence', 'I-Evidence', 'I-Evidence', 'I-Evidence', 'I-Evidence', 'I-Evidence', 'I-Evidence', 'I-Evidence', 'I-Evidence', 'I-Evidence', 'I-Evidence', 'I-Evidence', 'I-Evidence', 'I-Evidence', 'I-Evidence', 'I-Evidence', 'I-Evidence', 'I-Evidence', 'I-Evidence', 'I-Evidence', 'I-Evidence', 'I-Evidence', 'I-Evidence', 'O', 'O', 'B-Claim', 'I-Claim', 'I-Claim', 'I-Claim', 'I-Claim', 'I-Claim', 'I-Claim', 'I-Claim', 'I-Claim', 'I-Claim', 'I-Claim', 'I-Claim', 'I-Claim', 'I-Claim', 'I-Claim', 'I-Claim', 'I-Claim', 'B-Evidence', 'I-Evidence', 'I-Evidence', 'I-Evidence', 'I-Evidence', 'I-Evidence', 'I-Evidence', 'I-Evidence', 'I-Evidence', 'I-Evidence', 'I-Evidence', 'I-Evidence', 'I-Evidence', 'I-Evidence', 'I-Evidence', 'I-Evidence', 'I-Evidence', 'I-Evidence', 'I-Evidence', 'I-Evidence', 'I-Evidence', 'I-Evidence', 'I-Evidence', 'I-Evidence', 'I-Evidence', 'I-Evidence', 'I-Evidence', 'I-Evidence', 'I-Evidence', 'I-Evidence', 'I-Evidence', 'I-Evidence', 'I-Evidence', 'I-Evidence', 'I-Evidence', 'I-Evidence', 'I-Evidence', 'I-Evidence', 'I-Evidence', 'I-Evidence', 'I-Evidence', 'I-Evidence', 'I-Evidence', 'I-Evidence', 'I-Evidence', 'I-Evidence', 'I-Evidence', 'I-Evidence', 'I-Evidence', 'I-Evidence', 'I-Evidence', 'I-Evidence', 'I-Evidence', 'I-Evidence', 'I-Evidence', 'I-Evidence', 'I-Evidence', 'I-Evidence', 'I-Evidence', 'I-Evidence', 'I-Evidence', 'I-Evidence', 'I-Evidence', 'I-Evidence', 'I-Evidence', 'B-Concluding Statement', 'I-Concluding Statement', 'I-Concluding Statement', 'I-Concluding Statement', 'I-Concluding Statement', 'I-Concluding Statement', 'I-Concluding Statement', 'I-Concluding Statement', 'I-Concluding Statement', 'I-Concluding Statement', 'I-Concluding Statement', 'I-Concluding Statement', 'I-Concluding Statement', 'I-Concluding Statement', 'I-Concluding Statement', 'I-Concluding Statement', 'I-Concluding Statement', 'I-Concluding Statement', 'I-Concluding Statement', 'I-Concluding Statement', 'I-Concluding Statement', 'I-Concluding Statement', 'I-Concluding Statement', 'I-Concluding Statement', 'I-Concluding Statement', 'I-Concluding Statement', 'O', 'O', 'O', 'O']}\n"
     ]
    }
   ],
   "source": [
    "print(len(training_sample[0]['input_ids']))\n",
    "print(len(training_sample[0]['text'].split()))\n",
    "print(training_sample[0])"
   ]
  },
  {
   "cell_type": "code",
   "execution_count": null,
   "id": "aa084496-0590-4133-9126-9b13f31f04f2",
   "metadata": {},
   "outputs": [],
   "source": [
    "df['discourse_type'].unique()"
   ]
  },
  {
   "cell_type": "code",
   "execution_count": null,
   "id": "b2e7706d-9f4f-4d48-a51e-6f82f1f3f2ee",
   "metadata": {},
   "outputs": [],
   "source": []
  }
 ],
 "metadata": {
  "kernelspec": {
   "display_name": "Python 3 (ipykernel)",
   "language": "python",
   "name": "python3"
  },
  "language_info": {
   "codemirror_mode": {
    "name": "ipython",
    "version": 3
   },
   "file_extension": ".py",
   "mimetype": "text/x-python",
   "name": "python",
   "nbconvert_exporter": "python",
   "pygments_lexer": "ipython3",
   "version": "3.9.8"
  }
 },
 "nbformat": 4,
 "nbformat_minor": 5
}
